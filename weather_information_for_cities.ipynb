{
 "cells": [
  {
   "cell_type": "code",
   "execution_count": 77,
   "id": "f5c0b078",
   "metadata": {},
   "outputs": [],
   "source": [
    "import pandas as pd\n",
    "import requests\n",
    "import json\n",
    "from datetime import datetime\n",
    "API_key='c262736f349754e53e4ec4f616dedd26'\n",
    "city_name='Stockholm'\n",
    "def weather_api(city_name,API_key):\n",
    "    api_url=f'http://api.openweathermap.org/data/2.5/weather?q={city_name}&appid={API_key}'\n",
    "    x = requests.get(api_url)\n",
    "    x=x.json()\n",
    "    dict_wheather={}\n",
    "    now = datetime.now()\n",
    "    current_time = now.strftime(\"%H:%M:%S\")\n",
    "    for key, value in x['main'].items():\n",
    "\n",
    "        dict_wheather[key]=round(value- 273.15)\n",
    "    dict_wheather['city']=x['name']\n",
    "    dict_wheather['pressure']=x['main']['pressure']\n",
    "    dict_wheather['humidity']=x['main']['humidity']\n",
    "    dict_wheather['wind']=x['wind']['speed']\n",
    "    dict_wheather['sunrise']=x['sys']['sunrise']\n",
    "    dict_wheather['sunrise']=x['sys']['sunset']\n",
    "    dict_wheather['current_time']=current_time\n",
    "    return dict_wheather"
   ]
  },
  {
   "cell_type": "code",
   "execution_count": 75,
   "id": "9630c568",
   "metadata": {},
   "outputs": [],
   "source": []
  },
  {
   "cell_type": "code",
   "execution_count": 76,
   "id": "4ac06225",
   "metadata": {},
   "outputs": [],
   "source": []
  },
  {
   "cell_type": "code",
   "execution_count": 67,
   "id": "6514ee17",
   "metadata": {},
   "outputs": [],
   "source": []
  },
  {
   "cell_type": "code",
   "execution_count": 68,
   "id": "b922e5fd",
   "metadata": {},
   "outputs": [
    {
     "data": {
      "text/plain": [
       "{'coord': {'lon': 18.0649, 'lat': 59.3326},\n",
       " 'weather': [{'id': 800,\n",
       "   'main': 'Clear',\n",
       "   'description': 'clear sky',\n",
       "   'icon': '01d'}],\n",
       " 'base': 'stations',\n",
       " 'main': {'temp': 281.32,\n",
       "  'feels_like': 280.67,\n",
       "  'temp_min': 280.15,\n",
       "  'temp_max': 282.01,\n",
       "  'pressure': 1027,\n",
       "  'humidity': 34},\n",
       " 'visibility': 10000,\n",
       " 'wind': {'speed': 1.54, 'deg': 220},\n",
       " 'clouds': {'all': 0},\n",
       " 'dt': 1647090912,\n",
       " 'sys': {'type': 1,\n",
       "  'id': 1788,\n",
       "  'country': 'SE',\n",
       "  'sunrise': 1647062029,\n",
       "  'sunset': 1647103288},\n",
       " 'timezone': 3600,\n",
       " 'id': 2673730,\n",
       " 'name': 'Stockholm',\n",
       " 'cod': 200}"
      ]
     },
     "execution_count": 68,
     "metadata": {},
     "output_type": "execute_result"
    }
   ],
   "source": [
    "x"
   ]
  },
  {
   "cell_type": "code",
   "execution_count": 70,
   "id": "62bfb972",
   "metadata": {},
   "outputs": [
    {
     "data": {
      "text/plain": [
       "{'temp': 8,\n",
       " 'feels_like': 8,\n",
       " 'temp_min': 7,\n",
       " 'temp_max': 9,\n",
       " 'pressure': 1027,\n",
       " 'humidity': 34,\n",
       " 'city': 'Stockholm',\n",
       " 'wind': 1.54,\n",
       " 'sunrise': 1647103288,\n",
       " 'current_time': '14:18:23'}"
      ]
     },
     "execution_count": 70,
     "metadata": {},
     "output_type": "execute_result"
    }
   ],
   "source": [
    "\n",
    "\n",
    "dict_wheather"
   ]
  }
 ],
 "metadata": {
  "kernelspec": {
   "display_name": "Python 3 (ipykernel)",
   "language": "python",
   "name": "python3"
  },
  "language_info": {
   "codemirror_mode": {
    "name": "ipython",
    "version": 3
   },
   "file_extension": ".py",
   "mimetype": "text/x-python",
   "name": "python",
   "nbconvert_exporter": "python",
   "pygments_lexer": "ipython3",
   "version": "3.9.7"
  }
 },
 "nbformat": 4,
 "nbformat_minor": 5
}
