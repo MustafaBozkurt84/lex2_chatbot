{
 "cells": [
  {
   "cell_type": "code",
   "execution_count": 1,
   "id": "e2ec35b7",
   "metadata": {},
   "outputs": [],
   "source": [
    "from weather import weather_api"
   ]
  },
  {
   "cell_type": "code",
   "execution_count": 4,
   "id": "acf2a794",
   "metadata": {},
   "outputs": [
    {
     "data": {
      "text/plain": [
       "{'temp': 11,\n",
       " 'feels_like': 8,\n",
       " 'temp_min': 9,\n",
       " 'temp_max': 12,\n",
       " 'pressure': 1029,\n",
       " 'humidity': 33,\n",
       " 'city': 'Lidingö Municipality',\n",
       " 'wind': 2.57,\n",
       " 'sunrise': 1647189801,\n",
       " 'current_time': '14:27:59'}"
      ]
     },
     "execution_count": 4,
     "metadata": {},
     "output_type": "execute_result"
    }
   ],
   "source": [
    "weather_api('lidingö')"
   ]
  },
  {
   "cell_type": "code",
   "execution_count": null,
   "id": "45e30381",
   "metadata": {},
   "outputs": [],
   "source": []
  }
 ],
 "metadata": {
  "kernelspec": {
   "display_name": "Python 3 (ipykernel)",
   "language": "python",
   "name": "python3"
  },
  "language_info": {
   "codemirror_mode": {
    "name": "ipython",
    "version": 3
   },
   "file_extension": ".py",
   "mimetype": "text/x-python",
   "name": "python",
   "nbconvert_exporter": "python",
   "pygments_lexer": "ipython3",
   "version": "3.9.7"
  }
 },
 "nbformat": 4,
 "nbformat_minor": 5
}
